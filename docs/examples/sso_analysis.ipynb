{
 "cells": [
  {
   "cell_type": "markdown",
   "source": [
    "# Analysis of a Repeating Sun-Synchronous Orbit\n",
    "\n",
    "Many Earth observation satellites at Low Earth Orbit (LEO) are in\n",
    "[Sun-Synchronous Orbit](https://en.wikipedia.org/wiki/Sun-synchronous_orbit), where the orbital\n",
    "plane of the satellite keeps a fixed (or changing around a mean) orientation with respect to the sun.\n",
    "This enables the satellite to keep a predictable sun-Earth-satellite orientation, increasing the\n",
    "data production quality. Some of these satellites also keep the orbit in such a way that the satellite\n",
    "[ground-track](https://en.wikipedia.org/wiki/Ground_track) repeats a certain pattern.\n",
    "\n",
    "[European Space Agency's Sentinel-2A](https://www.esa.int/Applications/Observing_the_Earth/Copernicus/Sentinel-2)\n",
    "optical earth observation satellite is an example of missions utilising such orbits. It is possible to\n",
    "observe these orbital characteristics from their orbital elements.\n",
    "\n",
    "The up-to-date orbital elements of Sentinel-2A can be retrieved from\n",
    "[Celestrak website](https://celestrak.com/satcat/tle.php?CATNR=40697). The orbital elements are in\n",
    "[Two-Line-Element format](https://celestrak.com/NORAD/documentation/tle-fmt.php).\n",
    "\n",
    "The first step of the analysis is to read the orbital elements to a TLE object."
   ],
   "metadata": {
    "collapsed": false
   }
  },
  {
   "cell_type": "code",
   "execution_count": 2,
   "outputs": [
    {
     "data": {
      "text/plain": "<Quantity 7167.13636452 km>",
      "text/latex": "$7167.1364 \\; \\mathrm{km}$"
     },
     "execution_count": 2,
     "metadata": {},
     "output_type": "execute_result"
    }
   ],
   "source": [
    "from satmad.propagation.tle import TLE\n",
    "\n",
    "line1 = \"1 40697U 15028A   20164.50828565  .00000010  00000-0  20594-4 0  9999\"\n",
    "line2 = \"2 40697  98.5692 238.8182 0001206  86.9662 273.1664 14.30818200259759\"\n",
    "tle = TLE.from_tle(line1, line2, \"Sentinel 2A\")\n",
    "\n",
    "tle.sm_axis()"
   ],
   "metadata": {
    "collapsed": false,
    "pycharm": {
     "name": "#%%\n"
    }
   }
  }
 ],
 "metadata": {
  "kernelspec": {
   "display_name": "Python 3",
   "language": "python",
   "name": "python3"
  },
  "language_info": {
   "codemirror_mode": {
    "name": "ipython",
    "version": 2
   },
   "file_extension": ".py",
   "mimetype": "text/x-python",
   "name": "python",
   "nbconvert_exporter": "python",
   "pygments_lexer": "ipython2",
   "version": "2.7.6"
  }
 },
 "nbformat": 4,
 "nbformat_minor": 0
}